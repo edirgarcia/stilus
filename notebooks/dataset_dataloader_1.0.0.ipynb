{
 "cells": [
  {
   "cell_type": "code",
   "execution_count": 35,
   "metadata": {},
   "outputs": [],
   "source": [
    "import torch\n",
    "import numpy as np\n",
    "from torch.utils.data import TensorDataset, DataLoader"
   ]
  },
  {
   "cell_type": "code",
   "execution_count": 48,
   "metadata": {},
   "outputs": [],
   "source": [
    "class MidiDataset(Dataset):\n",
    "    \"\"\"Face Landmarks dataset.\"\"\"\n",
    "\n",
    "    def __init__(self, npy_file):\n",
    "        \"\"\"\n",
    "        Args:\n",
    "            npy_file (string): Path to the npy file with the midi time series.\n",
    "        \"\"\"\n",
    "        np_training_data = np.load(npy_file).astype('float32')\n",
    "        self.time_series = torch.from_numpy(np_training_data)\n",
    "\n",
    "    def __len__(self):\n",
    "        return len(self.time_series)\n",
    "\n",
    "    def __getitem__(self, idx):\n",
    "        return self.time_series[idx]"
   ]
  },
  {
   "cell_type": "code",
   "execution_count": 49,
   "metadata": {},
   "outputs": [],
   "source": [
    "midi_dataset = MidiDataset(\"../training_data.npy\")"
   ]
  },
  {
   "cell_type": "code",
   "execution_count": 50,
   "metadata": {},
   "outputs": [
    {
     "name": "stdout",
     "output_type": "stream",
     "text": [
      "torch.Size([33, 5])\n",
      "<class 'torch.Tensor'>\n",
      "torch.Size([33, 5])\n",
      "<class 'torch.Tensor'>\n",
      "torch.Size([33, 5])\n",
      "<class 'torch.Tensor'>\n",
      "torch.Size([33, 5])\n",
      "<class 'torch.Tensor'>\n",
      "out\n"
     ]
    }
   ],
   "source": [
    "for i in range(len(midi_dataset)):\n",
    "    sample = midi_dataset[i]\n",
    "    print(sample.shape)\n",
    "    print(type(sample))\n",
    "    if i == 3:\n",
    "        print(\"out\")\n",
    "        break"
   ]
  },
  {
   "cell_type": "code",
   "execution_count": 54,
   "metadata": {},
   "outputs": [],
   "source": [
    "dataloader = DataLoader(midi_dataset, batch_size=8, shuffle=True)"
   ]
  },
  {
   "cell_type": "code",
   "execution_count": 55,
   "metadata": {},
   "outputs": [
    {
     "name": "stdout",
     "output_type": "stream",
     "text": [
      "Batch:  0\n",
      "sample shape:  torch.Size([8, 33, 5])\n",
      "Batch:  1\n",
      "sample shape:  torch.Size([8, 33, 5])\n",
      "Batch:  2\n",
      "sample shape:  torch.Size([8, 33, 5])\n",
      "Batch:  3\n",
      "sample shape:  torch.Size([8, 33, 5])\n"
     ]
    }
   ],
   "source": [
    "for i_batch, sample in enumerate(dataloader):\n",
    "    print(\"Batch: \", i_batch)\n",
    "    print(\"sample shape: \", sample.shape)\n",
    "\n",
    "    # observe 4th batch and stop.\n",
    "    if i_batch == 3:\n",
    "        break"
   ]
  },
  {
   "cell_type": "code",
   "execution_count": null,
   "metadata": {},
   "outputs": [],
   "source": []
  }
 ],
 "metadata": {
  "kernelspec": {
   "display_name": "Python 3",
   "language": "python",
   "name": "python3"
  },
  "language_info": {
   "codemirror_mode": {
    "name": "ipython",
    "version": 3
   },
   "file_extension": ".py",
   "mimetype": "text/x-python",
   "name": "python",
   "nbconvert_exporter": "python",
   "pygments_lexer": "ipython3",
   "version": "3.6.10"
  }
 },
 "nbformat": 4,
 "nbformat_minor": 2
}
