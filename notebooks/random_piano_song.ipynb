{
 "cells": [
  {
   "cell_type": "code",
   "execution_count": 3,
   "metadata": {},
   "outputs": [],
   "source": [
    "from random import randrange\n",
    "from mido import Message, MidiFile, MidiTrack"
   ]
  },
  {
   "cell_type": "code",
   "execution_count": 4,
   "metadata": {},
   "outputs": [],
   "source": [
    "note_range = 127\n",
    "velocity_range = 127\n",
    "delta_range = 400\n",
    "\n",
    "outfile = MidiFile()\n",
    "\n",
    "track = MidiTrack()\n",
    "outfile.tracks.append(track)\n",
    "\n",
    "track.append(Message('program_change', program=0))\n",
    "\n",
    "for i in range(400):\n",
    "    note = randrange(note_range)\n",
    "    delta = randrange(delta_range)\n",
    "    velo = randrange(velocity_range)\n",
    "    \n",
    "    track.append(Message('note_on', note=note, velocity=velo, time=delta))\n",
    "    track.append(Message('note_off', note=note, velocity=velo, time=delta))\n",
    "\n",
    "outfile.save('../midi/random_song.mid')"
   ]
  },
  {
   "cell_type": "code",
   "execution_count": null,
   "metadata": {},
   "outputs": [],
   "source": []
  }
 ],
 "metadata": {
  "kernelspec": {
   "display_name": "Python 3",
   "language": "python",
   "name": "python3"
  },
  "language_info": {
   "codemirror_mode": {
    "name": "ipython",
    "version": 3
   },
   "file_extension": ".py",
   "mimetype": "text/x-python",
   "name": "python",
   "nbconvert_exporter": "python",
   "pygments_lexer": "ipython3",
   "version": "3.6.8"
  }
 },
 "nbformat": 4,
 "nbformat_minor": 2
}
