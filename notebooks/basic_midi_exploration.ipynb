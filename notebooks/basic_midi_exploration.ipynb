{
 "cells": [
  {
   "cell_type": "code",
   "execution_count": 11,
   "metadata": {},
   "outputs": [],
   "source": [
    "import random\n",
    "from mido import Message, MidiFile, MidiTrack"
   ]
  },
  {
   "cell_type": "code",
   "execution_count": 2,
   "metadata": {},
   "outputs": [],
   "source": [
    "#import a midi file\n",
    "mid = MidiFile(\"../midi/mary.mid\")"
   ]
  },
  {
   "cell_type": "code",
   "execution_count": 3,
   "metadata": {},
   "outputs": [
    {
     "name": "stdout",
     "output_type": "stream",
     "text": [
      "Track 0: \n",
      "<meta message time_signature numerator=4 denominator=4 clocks_per_click=24 notated_32nd_notes_per_beat=8 time=0>\n",
      "<meta message key_signature key='C' time=0>\n",
      "<meta message end_of_track time=1>\n",
      "Track 1: \n",
      "control_change channel=0 control=91 value=58 time=0\n",
      "control_change channel=0 control=10 value=69 time=0\n",
      "control_change channel=0 control=0 value=0 time=0\n",
      "control_change channel=0 control=32 value=0 time=0\n",
      "program_change channel=0 program=24 time=0\n",
      "note_on channel=0 note=64 velocity=72 time=0\n",
      "note_on channel=0 note=55 velocity=70 time=0\n",
      "note_on channel=0 note=64 velocity=0 time=231\n",
      "note_on channel=0 note=62 velocity=72 time=25\n",
      "note_on channel=0 note=62 velocity=0 time=231\n",
      "note_on channel=0 note=60 velocity=71 time=25\n",
      "note_on channel=0 note=60 velocity=0 time=231\n",
      "note_on channel=0 note=62 velocity=79 time=25\n",
      "note_on channel=0 note=55 velocity=0 time=206\n",
      "note_on channel=0 note=62 velocity=0 time=25\n",
      "note_on channel=0 note=64 velocity=85 time=25\n",
      "note_on channel=0 note=55 velocity=79 time=0\n",
      "note_on channel=0 note=64 velocity=0 time=231\n",
      "note_on channel=0 note=64 velocity=78 time=25\n",
      "note_on channel=0 note=64 velocity=0 time=231\n",
      "note_on channel=0 note=64 velocity=74 time=25\n",
      "note_on channel=0 note=55 velocity=0 time=462\n",
      "note_on channel=0 note=64 velocity=0 time=0\n",
      "note_on channel=0 note=62 velocity=75 time=50\n",
      "note_on channel=0 note=55 velocity=77 time=0\n",
      "note_on channel=0 note=62 velocity=0 time=231\n",
      "note_on channel=0 note=62 velocity=77 time=25\n",
      "note_on channel=0 note=62 velocity=0 time=231\n",
      "note_on channel=0 note=62 velocity=75 time=25\n",
      "note_on channel=0 note=55 velocity=0 time=462\n",
      "note_on channel=0 note=62 velocity=0 time=0\n",
      "note_on channel=0 note=64 velocity=82 time=50\n",
      "note_on channel=0 note=55 velocity=79 time=0\n",
      "note_on channel=0 note=64 velocity=0 time=231\n",
      "note_on channel=0 note=67 velocity=84 time=25\n",
      "note_on channel=0 note=67 velocity=0 time=231\n",
      "note_on channel=0 note=67 velocity=75 time=25\n",
      "note_on channel=0 note=55 velocity=0 time=462\n",
      "note_on channel=0 note=67 velocity=0 time=0\n",
      "note_on channel=0 note=64 velocity=73 time=50\n",
      "note_on channel=0 note=55 velocity=78 time=0\n",
      "note_on channel=0 note=64 velocity=0 time=231\n",
      "note_on channel=0 note=62 velocity=69 time=25\n",
      "note_on channel=0 note=62 velocity=0 time=231\n",
      "note_on channel=0 note=60 velocity=71 time=25\n",
      "note_on channel=0 note=60 velocity=0 time=231\n",
      "note_on channel=0 note=62 velocity=80 time=25\n",
      "note_on channel=0 note=55 velocity=0 time=206\n",
      "note_on channel=0 note=62 velocity=0 time=25\n",
      "note_on channel=0 note=64 velocity=84 time=25\n",
      "note_on channel=0 note=55 velocity=79 time=0\n",
      "note_on channel=0 note=64 velocity=0 time=231\n",
      "note_on channel=0 note=64 velocity=76 time=25\n",
      "note_on channel=0 note=64 velocity=0 time=231\n",
      "note_on channel=0 note=64 velocity=74 time=25\n",
      "note_on channel=0 note=64 velocity=0 time=231\n",
      "note_on channel=0 note=64 velocity=77 time=25\n",
      "note_on channel=0 note=55 velocity=0 time=206\n",
      "note_on channel=0 note=64 velocity=0 time=25\n",
      "note_on channel=0 note=62 velocity=75 time=25\n",
      "note_on channel=0 note=55 velocity=78 time=0\n",
      "note_on channel=0 note=62 velocity=0 time=231\n",
      "note_on channel=0 note=62 velocity=74 time=25\n",
      "note_on channel=0 note=62 velocity=0 time=231\n",
      "note_on channel=0 note=64 velocity=81 time=25\n",
      "note_on channel=0 note=64 velocity=0 time=231\n",
      "note_on channel=0 note=62 velocity=70 time=25\n",
      "note_on channel=0 note=55 velocity=0 time=206\n",
      "note_on channel=0 note=62 velocity=0 time=25\n",
      "note_on channel=0 note=60 velocity=73 time=25\n",
      "note_on channel=0 note=52 velocity=72 time=0\n",
      "note_on channel=0 note=60 velocity=0 time=974\n",
      "note_on channel=0 note=52 velocity=0 time=0\n",
      "<meta message end_of_track time=1>\n"
     ]
    }
   ],
   "source": [
    "# print all events\n",
    "for i, track in enumerate(mid.tracks):\n",
    "    print('Track {}: {}'.format(i, track.name))\n",
    "    for msg in track:\n",
    "        #if msg.type == \"note_on\":\n",
    "        print(msg)"
   ]
  },
  {
   "cell_type": "code",
   "execution_count": 7,
   "metadata": {},
   "outputs": [
    {
     "name": "stdout",
     "output_type": "stream",
     "text": [
      "Track 0: \n",
      "Track 1: \n",
      "note_on channel=0 note=64 velocity=72 time=0\n",
      "note_on channel=0 note=55 velocity=70 time=0\n",
      "note_on channel=0 note=55 velocity=79 time=0\n",
      "note_on channel=0 note=64 velocity=0 time=0\n",
      "note_on channel=0 note=55 velocity=77 time=0\n",
      "note_on channel=0 note=62 velocity=0 time=0\n",
      "note_on channel=0 note=55 velocity=79 time=0\n",
      "note_on channel=0 note=67 velocity=0 time=0\n",
      "note_on channel=0 note=55 velocity=78 time=0\n",
      "note_on channel=0 note=55 velocity=79 time=0\n",
      "note_on channel=0 note=55 velocity=78 time=0\n",
      "note_on channel=0 note=52 velocity=72 time=0\n",
      "note_on channel=0 note=52 velocity=0 time=0\n"
     ]
    }
   ],
   "source": [
    "# print all note_on events that start in time=0\n",
    "for i, track in enumerate(mid.tracks):\n",
    "    print('Track {}: {}'.format(i, track.name))\n",
    "    for msg in track:\n",
    "        if msg.type == \"note_on\" and msg.time == 0:\n",
    "            #track.remove(msg)\n",
    "            print(msg)"
   ]
  },
  {
   "cell_type": "code",
   "execution_count": 8,
   "metadata": {},
   "outputs": [
    {
     "data": {
      "text/plain": [
       "<midi track '' 74 messages>"
      ]
     },
     "execution_count": 8,
     "metadata": {},
     "output_type": "execute_result"
    }
   ],
   "source": [
    "#how many messages per track?\n",
    "mid.tracks[1]"
   ]
  },
  {
   "cell_type": "code",
   "execution_count": null,
   "metadata": {},
   "outputs": [],
   "source": [
    "#set to grand piano\n",
    "#https://noterepeat.com/articles/how-to/213-midi-basics-common-terms-explained\n",
    "mid.tracks[1][4].program = 0"
   ]
  },
  {
   "cell_type": "code",
   "execution_count": 24,
   "metadata": {},
   "outputs": [],
   "source": [
    "#How to create a midi file from scratch\n",
    "notes = [64, 64+7, 64+12]\n",
    "\n",
    "outfile = MidiFile()\n",
    "\n",
    "track = MidiTrack()\n",
    "outfile.tracks.append(track)\n",
    "\n",
    "track.append(Message('program_change', program=12))\n",
    "\n",
    "delta = 32\n",
    "for i in range(200):\n",
    "    note = random.choice(notes)\n",
    "    track.append(Message('note_on', note=note, velocity=100, time=delta))\n",
    "    track.append(Message('note_off', note=note, velocity=100, time=delta))\n",
    "\n",
    "outfile.save('../midi/new_song.mid')"
   ]
  },
  {
   "cell_type": "code",
   "execution_count": 19,
   "metadata": {},
   "outputs": [
    {
     "data": {
      "text/plain": [
       "13.333333333333306"
      ]
     },
     "execution_count": 19,
     "metadata": {},
     "output_type": "execute_result"
    }
   ],
   "source": [
    "outfile.length"
   ]
  },
  {
   "cell_type": "code",
   "execution_count": null,
   "metadata": {},
   "outputs": [],
   "source": []
  }
 ],
 "metadata": {
  "kernelspec": {
   "display_name": "Python 3",
   "language": "python",
   "name": "python3"
  },
  "language_info": {
   "codemirror_mode": {
    "name": "ipython",
    "version": 3
   },
   "file_extension": ".py",
   "mimetype": "text/x-python",
   "name": "python",
   "nbconvert_exporter": "python",
   "pygments_lexer": "ipython3",
   "version": "3.6.8"
  }
 },
 "nbformat": 4,
 "nbformat_minor": 2
}
