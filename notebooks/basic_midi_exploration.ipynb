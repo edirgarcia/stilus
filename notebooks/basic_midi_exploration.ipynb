{
 "cells": [
  {
   "cell_type": "code",
   "execution_count": 1,
   "metadata": {},
   "outputs": [],
   "source": [
    "from mido import Message, MidiFile, MidiTrack"
   ]
  },
  {
   "cell_type": "code",
   "execution_count": 5,
   "metadata": {},
   "outputs": [],
   "source": [
    "#import a midi file\n",
    "mid = MidiFile(\"../midi/mary.mid\")"
   ]
  },
  {
   "cell_type": "code",
   "execution_count": 7,
   "metadata": {},
   "outputs": [
    {
     "name": "stdout",
     "output_type": "stream",
     "text": [
      "Track 0: \n",
      "<meta message time_signature numerator=4 denominator=4 clocks_per_click=24 notated_32nd_notes_per_beat=8 time=0>\n",
      "<meta message key_signature key='C' time=0>\n",
      "Track 1: \n",
      "control_change channel=0 control=91 value=58 time=0\n",
      "control_change channel=0 control=10 value=69 time=0\n",
      "control_change channel=0 control=0 value=0 time=0\n",
      "control_change channel=0 control=32 value=0 time=0\n",
      "program_change channel=0 program=24 time=0\n",
      "note_on channel=0 note=64 velocity=72 time=0\n",
      "note_on channel=0 note=55 velocity=70 time=0\n",
      "note_on channel=0 note=55 velocity=79 time=0\n",
      "note_on channel=0 note=64 velocity=0 time=0\n",
      "note_on channel=0 note=55 velocity=77 time=0\n",
      "note_on channel=0 note=62 velocity=0 time=0\n",
      "note_on channel=0 note=55 velocity=79 time=0\n",
      "note_on channel=0 note=67 velocity=0 time=0\n",
      "note_on channel=0 note=55 velocity=78 time=0\n",
      "note_on channel=0 note=55 velocity=79 time=0\n",
      "note_on channel=0 note=55 velocity=78 time=0\n",
      "note_on channel=0 note=52 velocity=72 time=0\n",
      "note_on channel=0 note=52 velocity=0 time=0\n"
     ]
    }
   ],
   "source": [
    "# print all events that start in time=0\n",
    "for i, track in enumerate(mid.tracks):\n",
    "    print('Track {}: {}'.format(i, track.name))\n",
    "    for msg in track:\n",
    "        if msg.time == 0:\n",
    "            print(msg)"
   ]
  },
  {
   "cell_type": "code",
   "execution_count": null,
   "metadata": {},
   "outputs": [],
   "source": []
  }
 ],
 "metadata": {
  "kernelspec": {
   "display_name": "Python 3",
   "language": "python",
   "name": "python3"
  },
  "language_info": {
   "codemirror_mode": {
    "name": "ipython",
    "version": 3
   },
   "file_extension": ".py",
   "mimetype": "text/x-python",
   "name": "python",
   "nbconvert_exporter": "python",
   "pygments_lexer": "ipython3",
   "version": "3.6.8"
  }
 },
 "nbformat": 4,
 "nbformat_minor": 2
}
