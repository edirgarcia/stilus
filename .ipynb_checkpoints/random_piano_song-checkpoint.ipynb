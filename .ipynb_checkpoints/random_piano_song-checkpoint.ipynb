{
 "cells": [
  {
   "cell_type": "code",
   "execution_count": null,
   "metadata": {},
   "outputs": [],
   "source": [
    "from random import randrange\n",
    "from mido import Message, MidiFile, MidiTrack"
   ]
  },
  {
   "cell_type": "code",
   "execution_count": null,
   "metadata": {},
   "outputs": [],
   "source": [
    "note_range = 127\n",
    "velocity_range = 127\n",
    "delta_range = 400\n",
    "\n",
    "outfile = MidiFile()\n",
    "\n",
    "track = MidiTrack()\n",
    "outfile.tracks.append(track)\n",
    "\n",
    "track.append(Message('program_change', program=0))\n",
    "\n",
    "for i in range(400):\n",
    "    note = randrange(note_range)\n",
    "    delta = randrange(delta_range)\n",
    "    velo = randrange(velocity_range)\n",
    "    \n",
    "    track.append(Message('note_on', note=note, velocity=velo, time=delta))\n",
    "    track.append(Message('note_off', note=note, velocity=velo, time=delta))\n",
    "\n",
    "outfile.save('midi/random_song.mid')"
   ]
  },
  {
   "cell_type": "code",
   "execution_count": null,
   "metadata": {},
   "outputs": [],
   "source": [
    "outfile = MidiFile()\n",
    "\n",
    "track = MidiTrack()\n",
    "outfile.tracks.append(track)"
   ]
  },
  {
   "cell_type": "code",
   "execution_count": null,
   "metadata": {},
   "outputs": [],
   "source": [
    "track.append(Message('note_on', note=60, velocity=64, time=0))\n",
    "track.append(Message('note_on', note=64, velocity=64, time=0))\n",
    "track.append(Message('note_on', note=67, velocity=64, time=0))\n",
    "track.append(Message('note_off', note=60, velocity=64, time=480*4))\n",
    "track.append(Message('note_off', note=64, velocity=64, time=0))\n",
    "track.append(Message('note_off', note=67, velocity=64, time=0))"
   ]
  },
  {
   "cell_type": "code",
   "execution_count": null,
   "metadata": {},
   "outputs": [],
   "source": [
    "outfile.save('midi/chord_c.mid')"
   ]
  },
  {
   "cell_type": "code",
   "execution_count": null,
   "metadata": {},
   "outputs": [],
   "source": [
    "outfile.ticks_per_beat"
   ]
  },
  {
   "cell_type": "code",
   "execution_count": null,
   "metadata": {},
   "outputs": [],
   "source": []
  }
 ],
 "metadata": {
  "kernelspec": {
   "display_name": "Python 3",
   "language": "python",
   "name": "python3"
  },
  "language_info": {
   "codemirror_mode": {
    "name": "ipython",
    "version": 3
   },
   "file_extension": ".py",
   "mimetype": "text/x-python",
   "name": "python",
   "nbconvert_exporter": "python",
   "pygments_lexer": "ipython3",
   "version": "3.6.10"
  }
 },
 "nbformat": 4,
 "nbformat_minor": 2
}
