{
 "cells": [
  {
   "cell_type": "code",
   "execution_count": null,
   "metadata": {},
   "outputs": [],
   "source": [
    "import random\n",
    "from mido import Message, MidiFile, MidiTrack\n",
    "import stilus.midi.utils as utl\n",
    "import stilus.models as m"
   ]
  },
  {
   "cell_type": "code",
   "execution_count": null,
   "metadata": {},
   "outputs": [],
   "source": [
    "import torch\n",
    "import torch.nn as nn\n",
    "import torch.nn.functional as F\n",
    "import torch.optim as optim\n",
    "from stilus.data.sets import MidiDataset\n",
    "from torch.utils.data import DataLoader"
   ]
  },
  {
   "cell_type": "code",
   "execution_count": null,
   "metadata": {},
   "outputs": [],
   "source": [
    "#import a midi file\n",
    "mid = MidiFile(\"midi/training/mary.mid\")"
   ]
  },
  {
   "cell_type": "code",
   "execution_count": null,
   "metadata": {},
   "outputs": [],
   "source": [
    "# print all events\n",
    "for i, track in enumerate(mid.tracks):\n",
    "    print('Track {}: {}'.format(i, track.name))\n",
    "    for msg in track:\n",
    "        #if msg.type == \"note_on\":\n",
    "        print(msg)"
   ]
  },
  {
   "cell_type": "code",
   "execution_count": null,
   "metadata": {},
   "outputs": [],
   "source": [
    "tensor = utl.convert_midi_to_time_series(mid,5,5,8)\n",
    "print(tensor.shape)\n",
    "print(tensor[:,0:10])"
   ]
  },
  {
   "cell_type": "code",
   "execution_count": null,
   "metadata": {},
   "outputs": [],
   "source": [
    "conv_net = m.ConvNet_1_0_2()"
   ]
  },
  {
   "cell_type": "code",
   "execution_count": null,
   "metadata": {},
   "outputs": [],
   "source": [
    "conv_net.load_state_dict(torch.load(\"model_weights/tmpConvNet_1_0_2.pth\", map_location=torch.device('cpu')))\n",
    "conv_net.eval()"
   ]
  },
  {
   "cell_type": "code",
   "execution_count": null,
   "metadata": {},
   "outputs": [],
   "source": [
    "midi_dataset = MidiDataset(\"training_data.npy\")\n",
    "dataloader = DataLoader(midi_dataset, batch_size=32, shuffle=True)\n",
    "print(midi_dataset.std)\n",
    "print(midi_dataset.mean)"
   ]
  },
  {
   "cell_type": "code",
   "execution_count": null,
   "metadata": {},
   "outputs": [],
   "source": [
    "def std_tensor_to_int(pred):\n",
    "    return ((pred * midi_dataset.std) + midi_dataset.mean).int()"
   ]
  },
  {
   "cell_type": "code",
   "execution_count": null,
   "metadata": {},
   "outputs": [],
   "source": [
    "def int_to_std_tensor(input):\n",
    "    return ((input - midi_dataset.mean) / midi_dataset.std)"
   ]
  },
  {
   "cell_type": "code",
   "execution_count": null,
   "metadata": {},
   "outputs": [],
   "source": [
    "print(tensor.shape)\n",
    "std_tensor = int_to_std_tensor(tensor[:,0:0+32].astype(\"float32\"))\n",
    "print(std_tensor.shape)\n",
    "tensor_in = torch.unsqueeze(torch.from_numpy(std_tensor),0)\n",
    "print(\"tensor_in shape:\", tensor_in.shape)\n",
    "print(\"tensor_in\", tensor[:,0:0+32])\n",
    "print(tensor_in.dtype)\n",
    "pred = std_tensor_to_int(conv_net(tensor_in))\n",
    "print(\"pred:\",  pred)\n",
    "\n",
    "append = torch.cat((tensor_in[0], torch.t(pred).float()), 1)\n",
    "print(append)"
   ]
  },
  {
   "cell_type": "code",
   "execution_count": null,
   "metadata": {},
   "outputs": [],
   "source": [
    "#How to create a midi file from scratch\n",
    "notes = [64, 64+7, 64+12]\n",
    "\n",
    "outfile = MidiFile()\n",
    "\n",
    "track = MidiTrack()\n",
    "outfile.tracks.append(track)\n",
    "\n",
    "track.append(Message('program_change', program=12))\n",
    "\n",
    "delta = 32\n",
    "for i in range(200):\n",
    "    note = random.choice(notes)\n",
    "    track.append(Message('note_on', note=note, velocity=100, time=delta))\n",
    "    track.append(Message('note_off', note=note, velocity=100, time=delta))\n",
    "\n",
    "outfile.save('midi/new_song.mid')"
   ]
  },
  {
   "cell_type": "code",
   "execution_count": null,
   "metadata": {},
   "outputs": [],
   "source": [
    "outfile.length"
   ]
  },
  {
   "cell_type": "code",
   "execution_count": null,
   "metadata": {},
   "outputs": [],
   "source": []
  }
 ],
 "metadata": {
  "kernelspec": {
   "display_name": "Python 3",
   "language": "python",
   "name": "python3"
  },
  "language_info": {
   "codemirror_mode": {
    "name": "ipython",
    "version": 3
   },
   "file_extension": ".py",
   "mimetype": "text/x-python",
   "name": "python",
   "nbconvert_exporter": "python",
   "pygments_lexer": "ipython3",
   "version": "3.6.10"
  }
 },
 "nbformat": 4,
 "nbformat_minor": 2
}
