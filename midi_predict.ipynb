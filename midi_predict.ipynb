{
 "cells": [
  {
   "cell_type": "code",
   "execution_count": null,
   "metadata": {},
   "outputs": [],
   "source": [
    "from mido import Message, MidiFile, MidiTrack, MetaMessage\n",
    "import stilus.midi.utils as utl\n",
    "import stilus.models as m\n",
    "import stilus.midi.imagine as img\n",
    "import numpy as np"
   ]
  },
  {
   "cell_type": "code",
   "execution_count": null,
   "metadata": {},
   "outputs": [],
   "source": [
    "import torch\n",
    "import torch.nn as nn\n",
    "import torch.nn.functional as F\n",
    "import torch.optim as optim\n",
    "from stilus.data.sets import MidiDataset\n",
    "from torch.utils.data import DataLoader"
   ]
  },
  {
   "cell_type": "code",
   "execution_count": null,
   "metadata": {},
   "outputs": [],
   "source": [
    "#import a midi file\n",
    "file_path = \"midi/training/mozart/mz_545_3.mid\"\n",
    "tokens = file_path.split(\"/\")\n",
    "file_name = tokens[len(tokens)-1]\n",
    "file_name_no_ext = file_name.split(\".\")[0]\n",
    "\n",
    "mid = MidiFile(file_path)\n",
    "file_name_no_ext"
   ]
  },
  {
   "cell_type": "code",
   "execution_count": null,
   "metadata": {},
   "outputs": [],
   "source": [
    "# print all events\n",
    "for i, track in enumerate(mid.tracks):\n",
    "    print('Track {}: {}'.format(i, track.name))\n",
    "    for msg in track:\n",
    "        #if msg.type == \"note_on\":\n",
    "        print(msg)"
   ]
  },
  {
   "cell_type": "code",
   "execution_count": null,
   "metadata": {},
   "outputs": [],
   "source": [
    "timeseries_tensor = utl.convert_midi_to_time_series(mid,5,5,8)\n",
    "print(timeseries_tensor.shape)\n",
    "n = 136\n",
    "print(timeseries_tensor[:,n-32:n])"
   ]
  },
  {
   "cell_type": "code",
   "execution_count": null,
   "metadata": {},
   "outputs": [],
   "source": [
    "version =\"version_5\"\n",
    "epochs = \"5\"\n",
    "net = m.ConvNet_1_0_2().load_from_checkpoint(\"tb_logs/ConvNet_1_0_2_mozart/\"+ version +\"/checkpoints/epoch=\"+ epochs +\".ckpt\")\n",
    "#net = m.TransformerNet_1_0_2().load_from_checkpoint(\"tb_logs/TransformerNet_1_0_2_mozart_test/\"+ version +\"/checkpoints/epoch=\"+ epochs +\".ckpt\")\n",
    "net.eval( )"
   ]
  },
  {
   "cell_type": "code",
   "execution_count": null,
   "metadata": {},
   "outputs": [],
   "source": [
    "#set path to dataloaders\n",
    "net.set_data_path(\"data/mozart_test\")"
   ]
  },
  {
   "cell_type": "code",
   "execution_count": null,
   "metadata": {},
   "outputs": [],
   "source": [
    "timeseries_tensor.shape"
   ]
  },
  {
   "cell_type": "code",
   "execution_count": null,
   "metadata": {},
   "outputs": [],
   "source": [
    "generated_series = img.imagine_midi(timeseries_tensor, net, [\"128:160\", \"200:280\", \"400:448\", \"1200:1280\", \"1600:1760\",\"2000:2160\"])\n",
    "print(generated_series[:,136:172])\n",
    "print(generated_series.shape)"
   ]
  },
  {
   "cell_type": "code",
   "execution_count": null,
   "metadata": {},
   "outputs": [],
   "source": [
    "out_path = 'midi/weight_analysis/' + file_name_no_ext +\"_\" + net.name + \"_\" + version + '.mid'\n",
    "utl.write_midi_from_series(generated_series, 2, out_path )"
   ]
  },
  {
   "cell_type": "code",
   "execution_count": null,
   "metadata": {},
   "outputs": [],
   "source": []
  }
 ],
 "metadata": {
  "kernelspec": {
   "display_name": "Python 3",
   "language": "python",
   "name": "python3"
  },
  "language_info": {
   "codemirror_mode": {
    "name": "ipython",
    "version": 3
   },
   "file_extension": ".py",
   "mimetype": "text/x-python",
   "name": "python",
   "nbconvert_exporter": "python",
   "pygments_lexer": "ipython3",
   "version": "3.7.1"
  }
 },
 "nbformat": 4,
 "nbformat_minor": 2
}
