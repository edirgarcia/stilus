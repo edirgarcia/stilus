{
 "cells": [
  {
   "cell_type": "code",
   "execution_count": null,
   "metadata": {},
   "outputs": [],
   "source": [
    "import random\n",
    "from mido import Message, MidiFile, MidiTrack, MetaMessage\n",
    "import stilus.midi.utils as utl\n",
    "import stilus.models as m\n",
    "import numpy as np"
   ]
  },
  {
   "cell_type": "code",
   "execution_count": null,
   "metadata": {},
   "outputs": [],
   "source": [
    "import torch\n",
    "import torch.nn as nn\n",
    "import torch.nn.functional as F\n",
    "import torch.optim as optim\n",
    "from stilus.data.sets import MidiDataset\n",
    "from torch.utils.data import DataLoader"
   ]
  },
  {
   "cell_type": "code",
   "execution_count": null,
   "metadata": {},
   "outputs": [],
   "source": [
    "#import a midi file\n",
    "file_path = \"midi/training/mozart/mz_545_3.mid\"\n",
    "tokens = file_path.split(\"/\")\n",
    "file_name = tokens[len(tokens)-1]\n",
    "file_name_no_ext = file_name.split(\".\")[0]\n",
    "\n",
    "mid = MidiFile(file_path)\n",
    "file_name_no_ext"
   ]
  },
  {
   "cell_type": "code",
   "execution_count": null,
   "metadata": {},
   "outputs": [],
   "source": [
    "# print all events\n",
    "for i, track in enumerate(mid.tracks):\n",
    "    print('Track {}: {}'.format(i, track.name))\n",
    "    for msg in track:\n",
    "        #if msg.type == \"note_on\":\n",
    "        print(msg)"
   ]
  },
  {
   "cell_type": "code",
   "execution_count": null,
   "metadata": {},
   "outputs": [],
   "source": [
    "tensor = utl.convert_midi_to_time_series(mid,5,5,8)\n",
    "print(tensor.shape)\n",
    "n = 136\n",
    "print(tensor[:,n-32:n])"
   ]
  },
  {
   "cell_type": "code",
   "execution_count": null,
   "metadata": {},
   "outputs": [],
   "source": [
    "version =\"version_5\"\n",
    "epochs = \"4\"\n",
    "#net = m.ConvNet_1_0_2().load_from_checkpoint(\"tb_logs/ConvNet_1_0_2_mozart/\"+ version +\"/checkpoints/epoch=\"+ epochs +\".ckpt\")\n",
    "net = m.TransformerNet_1_0_2().load_from_checkpoint(\"tb_logs/TransformerNet_1_0_2_mozart/\"+ version +\"/checkpoints/epoch=\"+ epochs +\".ckpt\")\n",
    "net.eval( )"
   ]
  },
  {
   "cell_type": "code",
   "execution_count": null,
   "metadata": {},
   "outputs": [],
   "source": [
    "#set path to dataloaders\n",
    "net.set_data_path(\"data/mozart\")"
   ]
  },
  {
   "cell_type": "code",
   "execution_count": null,
   "metadata": {},
   "outputs": [],
   "source": [
    "def std_tensor_to_int(pred, net):\n",
    "    return ((pred * net.midi_dataset.std) + net.midi_dataset.mean).astype(int)"
   ]
  },
  {
   "cell_type": "code",
   "execution_count": null,
   "metadata": {},
   "outputs": [],
   "source": [
    "def int_to_std_tensor(input, net):\n",
    "    return ((input - net.midi_dataset.mean) / net.midi_dataset.std)"
   ]
  },
  {
   "cell_type": "code",
   "execution_count": null,
   "metadata": {},
   "outputs": [],
   "source": [
    "def imagine_midi(time_series, net, steps) :\n",
    "    std_time_series = int_to_std_tensor(time_series, net)\n",
    "    for i in range(steps):\n",
    "        series_len = len(std_time_series[0])\n",
    "        numpy_tensor = std_time_series[:,series_len-64:series_len].astype(\"float32\")\n",
    "        #print(\"in:\", numpy_tensor)\n",
    "        tensor_in = torch.unsqueeze(torch.from_numpy(numpy_tensor),0)\n",
    "        pred = net(tensor_in)\n",
    "        numpy_pred = pred.detach().numpy().T\n",
    "        #print(\"out:\", numpy_pred)\n",
    "        std_time_series = np.concatenate((std_time_series,numpy_pred), axis=1)\n",
    "    \n",
    "    return std_tensor_to_int(std_time_series, net)"
   ]
  },
  {
   "cell_type": "code",
   "execution_count": null,
   "metadata": {},
   "outputs": [],
   "source": [
    "generated_series = imagine_midi(tensor[:,0:136], net, 161)\n",
    "print(generated_series[:,136:172])\n",
    "print(generated_series.shape)"
   ]
  },
  {
   "cell_type": "code",
   "execution_count": null,
   "metadata": {},
   "outputs": [],
   "source": [
    "def write_midi_from_series(generated_series):\n",
    "    outfile = MidiFile()\n",
    "\n",
    "    step_size = int(outfile.ticks_per_beat / 8)\n",
    "    \n",
    "    track = MidiTrack()\n",
    "    outfile.tracks.append(track)\n",
    "\n",
    "    track.append(Message('program_change', program=12))\n",
    "\n",
    "    delta = 0\n",
    "    \n",
    "    for i in range(len(generated_series[0])):\n",
    "        for j in range(len(generated_series)):\n",
    "            note = generated_series[j,i]\n",
    "            if note > 0:\n",
    "                print(note)\n",
    "                track.append(Message('note_on', note=note, velocity=100, time=delta))\n",
    "                delta = 0\n",
    "\n",
    "        delta = delta + step_size\n",
    "\n",
    "    track.append( MetaMessage('end_of_track'))\n",
    "    out_path = 'midi/weight_analysis/' + file_name_no_ext +\"_\" + net.name + \"_\" + version + '.mid'\n",
    "    print(\"creating file: \", out_path)\n",
    "    outfile.save(out_path)"
   ]
  },
  {
   "cell_type": "code",
   "execution_count": null,
   "metadata": {},
   "outputs": [],
   "source": [
    "write_midi_from_series(generated_series)"
   ]
  },
  {
   "cell_type": "code",
   "execution_count": null,
   "metadata": {},
   "outputs": [],
   "source": []
  }
 ],
 "metadata": {
  "kernelspec": {
   "display_name": "Python 3",
   "language": "python",
   "name": "python3"
  },
  "language_info": {
   "codemirror_mode": {
    "name": "ipython",
    "version": 3
   },
   "file_extension": ".py",
   "mimetype": "text/x-python",
   "name": "python",
   "nbconvert_exporter": "python",
   "pygments_lexer": "ipython3",
   "version": "3.7.1"
  }
 },
 "nbformat": 4,
 "nbformat_minor": 2
}
