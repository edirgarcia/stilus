{
 "cells": [
  {
   "cell_type": "code",
   "execution_count": null,
   "metadata": {},
   "outputs": [],
   "source": [
    "import torch\n",
    "import torch.nn as nn\n",
    "import torch.nn.functional as F\n",
    "import torch.optim as optim\n",
    "import stilus.models as m\n",
    "import pytorch_lightning as pl\n",
    "from stilus.data.sets import MidiDataset\n",
    "from torch.utils.data import DataLoader\n",
    "from pytorch_lightning.callbacks import EarlyStopping\n",
    "from pytorch_lightning.loggers import TensorBoardLogger"
   ]
  },
  {
   "cell_type": "code",
   "execution_count": null,
   "metadata": {},
   "outputs": [],
   "source": [
    "print(\"PyTorch version:\", torch.__version__)\n",
    "print(\"Lightning version:\", pl.__version__)"
   ]
  },
  {
   "cell_type": "code",
   "execution_count": null,
   "metadata": {},
   "outputs": [],
   "source": [
    "cuda_available =  torch.cuda.is_available()\n",
    "device = torch.device('cuda' if cuda_available else 'cpu')\n",
    "print('Using device:', device)\n",
    "\n",
    "#nets = [m.ConvNet_1_0_0(\".\"), m.ConvNet_1_0_1(\".\"), m.ConvNet_1_0_2(\".\"), m.ConvNet_1_0_3(\".\"),m.TransformerNet_1_0_0(\".\"),m.TransformerNet_1_0_1(\".\"),m.TransformerNet_1_0_2(\".\")]\n",
    "#best nets seem to be both versions of 1.0.2\n",
    "nets = [m.ConvNet_1_0_0()]\n",
    "\n",
    "print(nets)"
   ]
  },
  {
   "cell_type": "code",
   "execution_count": null,
   "metadata": {},
   "outputs": [],
   "source": [
    "# Test that tensor shapes are correct\n",
    "for net in nets:\n",
    "    net.set_data_path(\"data/bach\")\n",
    "    print(net.name)\n",
    "    input = torch.randn(128, 5, 64)\n",
    "    out = net(input)\n",
    "    print(\"input:\", input.shape)\n",
    "    print(\"output:\", out.shape)"
   ]
  },
  {
   "cell_type": "code",
   "execution_count": null,
   "metadata": {},
   "outputs": [],
   "source": [
    "for net in nets:    \n",
    "    early_stopping = EarlyStopping('val_loss')\n",
    "    tb_logger = TensorBoardLogger(\"tb_logs\", name=net.name)\n",
    "    \n",
    "    print('Starting to train:', net.name)\n",
    "    trainer = pl.Trainer(min_epochs=30, max_epochs=400, gpus=1, callbacks=early_stopping , logger=tb_logger)\n",
    "    trainer.fit(net)\n",
    "    #trainer.test(net)\n",
    "    print('Finished training', net.name)"
   ]
  },
  {
   "cell_type": "code",
   "execution_count": null,
   "metadata": {},
   "outputs": [],
   "source": []
  }
 ],
 "metadata": {
  "kernelspec": {
   "display_name": "Python 3",
   "language": "python",
   "name": "python3"
  },
  "language_info": {
   "codemirror_mode": {
    "name": "ipython",
    "version": 3
   },
   "file_extension": ".py",
   "mimetype": "text/x-python",
   "name": "python",
   "nbconvert_exporter": "python",
   "pygments_lexer": "ipython3",
   "version": "3.6.10"
  }
 },
 "nbformat": 4,
 "nbformat_minor": 4
}
