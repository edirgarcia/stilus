{
 "cells": [
  {
   "cell_type": "code",
   "execution_count": 1,
   "metadata": {},
   "outputs": [],
   "source": [
    "import random\n",
    "from mido import Message, MidiFile, MidiTrack"
   ]
  },
  {
   "cell_type": "code",
   "execution_count": 102,
   "metadata": {},
   "outputs": [],
   "source": [
    "#import a midi file\n",
    "mid = MidiFile(\"midi/training/mary.mid\")"
   ]
  },
  {
   "cell_type": "code",
   "execution_count": 106,
   "metadata": {},
   "outputs": [
    {
     "name": "stdout",
     "output_type": "stream",
     "text": [
      "Track 0: \n",
      "<meta message time_signature numerator=4 denominator=4 clocks_per_click=24 notated_32nd_notes_per_beat=8 time=0>\n",
      "<meta message key_signature key='C' time=0>\n",
      "<meta message end_of_track time=1>\n",
      "Track 1: \n",
      "control_change channel=0 control=91 value=58 time=0\n",
      "control_change channel=0 control=10 value=69 time=0\n",
      "control_change channel=0 control=0 value=0 time=0\n",
      "control_change channel=0 control=32 value=0 time=0\n",
      "program_change channel=0 program=24 time=0\n",
      "<meta message end_of_track time=1>\n"
     ]
    }
   ],
   "source": [
    "# print all events\n",
    "for i, track in enumerate(mid.tracks):\n",
    "    print('Track {}: {}'.format(i, track.name))\n",
    "    for msg in track:\n",
    "        #if msg.type == \"note_on\":\n",
    "        print(msg)"
   ]
  },
  {
   "cell_type": "code",
   "execution_count": 104,
   "metadata": {},
   "outputs": [],
   "source": [
    "def delete_all_note_on(mid):\n",
    "    for i, track in enumerate(mid.tracks):\n",
    "        j = 0\n",
    "        while (j < len(track)) :\n",
    "            if track[j].type == \"note_on\":\n",
    "                del track[j]\n",
    "            else:\n",
    "                j+=1\n",
    "    return mid"
   ]
  },
  {
   "cell_type": "code",
   "execution_count": 105,
   "metadata": {},
   "outputs": [
    {
     "name": "stdout",
     "output_type": "stream",
     "text": [
      "Track 0: \n",
      "Track 1: \n"
     ]
    },
    {
     "data": {
      "text/plain": [
       "<midi file 'midi/training/mary.mid' type 1, 2 tracks, 9 messages>"
      ]
     },
     "execution_count": 105,
     "metadata": {},
     "output_type": "execute_result"
    }
   ],
   "source": [
    "delete_all_note_on(mid)"
   ]
  },
  {
   "cell_type": "code",
   "execution_count": 93,
   "metadata": {},
   "outputs": [
    {
     "data": {
      "text/plain": [
       "<midi track '' 6 messages>"
      ]
     },
     "execution_count": 93,
     "metadata": {},
     "output_type": "execute_result"
    }
   ],
   "source": [
    "#how many messages per track?\n",
    "mid.tracks[1]"
   ]
  },
  {
   "cell_type": "code",
   "execution_count": null,
   "metadata": {},
   "outputs": [],
   "source": [
    "mid.ticks_per_beat"
   ]
  },
  {
   "cell_type": "code",
   "execution_count": null,
   "metadata": {},
   "outputs": [],
   "source": [
    "#set to grand piano\n",
    "#https://noterepeat.com/articles/how-to/213-midi-basics-common-terms-explained\n",
    "mid.tracks[1][4].program = 0"
   ]
  },
  {
   "cell_type": "code",
   "execution_count": null,
   "metadata": {},
   "outputs": [],
   "source": [
    "#How to create a midi file from scratch\n",
    "notes = [64, 64+7, 64+12]\n",
    "\n",
    "outfile = MidiFile()\n",
    "\n",
    "track = MidiTrack()\n",
    "outfile.tracks.append(track)\n",
    "\n",
    "track.append(Message('program_change', program=12))\n",
    "\n",
    "delta = 32\n",
    "for i in range(200):\n",
    "    note = random.choice(notes)\n",
    "    track.append(Message('note_on', note=note, velocity=100, time=delta))\n",
    "    track.append(Message('note_off', note=note, velocity=100, time=delta))\n",
    "\n",
    "outfile.save('midi/new_song.mid')"
   ]
  },
  {
   "cell_type": "code",
   "execution_count": null,
   "metadata": {},
   "outputs": [],
   "source": [
    "outfile.length"
   ]
  },
  {
   "cell_type": "code",
   "execution_count": null,
   "metadata": {},
   "outputs": [],
   "source": []
  }
 ],
 "metadata": {
  "kernelspec": {
   "display_name": "Python 3",
   "language": "python",
   "name": "python3"
  },
  "language_info": {
   "codemirror_mode": {
    "name": "ipython",
    "version": 3
   },
   "file_extension": ".py",
   "mimetype": "text/x-python",
   "name": "python",
   "nbconvert_exporter": "python",
   "pygments_lexer": "ipython3",
   "version": "3.6.10"
  }
 },
 "nbformat": 4,
 "nbformat_minor": 2
}
