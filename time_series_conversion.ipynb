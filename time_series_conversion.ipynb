{
 "cells": [
  {
   "cell_type": "code",
   "execution_count": null,
   "metadata": {},
   "outputs": [],
   "source": [
    "import random\n",
    "import math\n",
    "import numpy as np\n",
    "from mido import Message, MidiFile, MidiTrack"
   ]
  },
  {
   "cell_type": "code",
   "execution_count": null,
   "metadata": {},
   "outputs": [],
   "source": [
    "#import a midi file\n",
    "mid = MidiFile(\"midi/training/mary.mid\")"
   ]
  },
  {
   "cell_type": "code",
   "execution_count": null,
   "metadata": {},
   "outputs": [],
   "source": [
    "# print all events\n",
    "for i, track in enumerate(mid.tracks):\n",
    "    print('Track {}: {}'.format(i, track.name))\n",
    "    for msg in track:\n",
    "        #if msg.type == \"note_on\":\n",
    "        print(msg)"
   ]
  },
  {
   "cell_type": "code",
   "execution_count": null,
   "metadata": {},
   "outputs": [],
   "source": [
    "def get_total_beats(mid):\n",
    "    max_ticks = 0\n",
    "    for i, track in enumerate(mid.tracks):\n",
    "        total_ticks = 0\n",
    "        print('Track {}: {}'.format(i, track.name))\n",
    "        for msg in track:\n",
    "            if msg.type == \"note_on\" :\n",
    "                total_ticks = total_ticks + msg.time\n",
    "        if total_ticks> max_ticks:\n",
    "           max_ticks = total_ticks \n",
    "        print(\"total ticks:\" , total_ticks)\n",
    "    print(\"max ticks: \", max_ticks)\n",
    "    total_beats = math.ceil(max_ticks / mid.ticks_per_beat)\n",
    "    return total_beats"
   ]
  },
  {
   "cell_type": "code",
   "execution_count": null,
   "metadata": {},
   "outputs": [],
   "source": [
    "len(mid.tracks)"
   ]
  },
  {
   "cell_type": "code",
   "execution_count": null,
   "metadata": {},
   "outputs": [],
   "source": [
    "### params #mid is is the midi file, \n",
    "### max_sim_notes is the maximum amount of simultaneous notes on a track, as of now most pieces have at most 4\n",
    "### max_granularity is what is the minumum space that you can represent\n",
    "### 1 is crotchets/quarters, 2 is quavers, 4 is semiquavers, etc. 4,or 8 is is a good default\n",
    "\n",
    "### returns, tensor - the tensor that processed the whole midi only on the tracks that have note_on events\n",
    "def convert_midi_to_tensor(mid, max_sim_notes, max_granularity):\n",
    "    total_beats = get_total_beats(mid)\n",
    "    tensor = np.zeros((len(mid.tracks), total_beats * max_granularity, max_sim_notes))\n",
    "    note_on_dims = []\n",
    "    for i, track in enumerate(mid.tracks):\n",
    "            total_ticks = 0\n",
    "            #print('Track {}: {}'.format(i, track.name))\n",
    "            secondary_index = 0\n",
    "            prev_index = -1\n",
    "            note_on_in_track = False\n",
    "            for msg in track:\n",
    "                if msg.type == \"note_on\" :\n",
    "                    note_on_in_track = True\n",
    "                    total_ticks = total_ticks + msg.time\n",
    "                    if msg.velocity > 0 :\n",
    "                        #print(total_ticks * max_granularity / mid.ticks_per_beat)\n",
    "                        curr_index = round(total_ticks * max_granularity / mid.ticks_per_beat)\n",
    "                        #print(curr_index)\n",
    "                        if prev_index == curr_index :\n",
    "                            secondary_index = secondary_index + 1\n",
    "                        else:\n",
    "                            secondary_index = 0\n",
    "                        prev_index = curr_index\n",
    "                        tensor[i, curr_index, secondary_index] = msg.note\n",
    "                        #print(curr_index, secondary_index)\n",
    "            \n",
    "            if note_on_in_track :\n",
    "                note_on_dims.append(i)\n",
    "    #print (\"time series shape:\", tensor.shape)\n",
    "    return tensor[note_on_dims]"
   ]
  },
  {
   "cell_type": "code",
   "execution_count": null,
   "metadata": {},
   "outputs": [],
   "source": [
    "tensor = convert_midi_to_tensor(mid, 5, 4)\n",
    "print(tensor.shape)"
   ]
  },
  {
   "cell_type": "code",
   "execution_count": null,
   "metadata": {},
   "outputs": [],
   "source": [
    "### params #mid is is the midi file, \n",
    "### max_sim_notes is the maximum amount of simultaneous notes on all tracks, as of now most pieces have at most 6\n",
    "### max_sim_notes_per_track is the maximum amount of simultaneous notes on a track, as of now most pieces have at most 4\n",
    "### max_granularity is what is the minumum space that you can represent\n",
    "### 1 is crotchets/quarters, 2 is quavers, 4 is semiquavers, etc. 4,or 8 is is a good default\n",
    "\n",
    "### returns, time_series - the tensor thatrepresents the sorted notes on all tracks, per time step\n",
    "def convert_midi_to_time_series(mid, max_sim_notes, max_sim_notes_per_track, max_granularity) :\n",
    "    tensor = convert_midi_to_tensor(mid, max_sim_notes_per_track, max_granularity)\n",
    "    all_tracks = np.concatenate(tensor[:], axis=1)\n",
    "    all_tracks.sort(axis=1)\n",
    "    concat_len = len(all_tracks[0])\n",
    "    return  all_tracks[:,concat_len - max_sim_notes : concat_len]"
   ]
  },
  {
   "cell_type": "code",
   "execution_count": null,
   "metadata": {},
   "outputs": [],
   "source": [
    "time_series = convert_midi_to_time_series(mid, 5, 5, 8)\n",
    "print(time_series.shape)"
   ]
  },
  {
   "cell_type": "code",
   "execution_count": null,
   "metadata": {},
   "outputs": [],
   "source": [
    "print(time_series[1504-33:1504])\n",
    "time_series.shape"
   ]
  },
  {
   "cell_type": "code",
   "execution_count": null,
   "metadata": {},
   "outputs": [],
   "source": [
    "def get_training_data(time_series, record_size):\n",
    "    result = np.zeros((len(time_series)+1 - record_size, time_series.shape[1], record_size))\n",
    "    print(result.shape)\n",
    "    idx = 0\n",
    "    time_series_len = len(time_series)\n",
    "    while idx <= time_series_len - record_size:\n",
    "        result[idx] = time_series[idx:idx+record_size].T\n",
    "        idx = idx + 1\n",
    "    return result"
   ]
  },
  {
   "cell_type": "code",
   "execution_count": null,
   "metadata": {},
   "outputs": [],
   "source": [
    "training = get_training_data(time_series, 33)"
   ]
  },
  {
   "cell_type": "code",
   "execution_count": null,
   "metadata": {
    "scrolled": true
   },
   "outputs": [],
   "source": [
    "print(training[0])"
   ]
  },
  {
   "cell_type": "code",
   "execution_count": null,
   "metadata": {},
   "outputs": [],
   "source": [
    "mid.length"
   ]
  },
  {
   "cell_type": "code",
   "execution_count": null,
   "metadata": {},
   "outputs": [],
   "source": [
    "mid.ticks_per_beat"
   ]
  },
  {
   "cell_type": "code",
   "execution_count": null,
   "metadata": {},
   "outputs": [],
   "source": [
    "dir(mid)"
   ]
  },
  {
   "cell_type": "code",
   "execution_count": null,
   "metadata": {},
   "outputs": [],
   "source": [
    "#set to grand piano\n",
    "#https://noterepeat.com/articles/how-to/213-midi-basics-common-terms-explained\n",
    "mid.tracks[1][4].program = 0"
   ]
  },
  {
   "cell_type": "code",
   "execution_count": null,
   "metadata": {},
   "outputs": [],
   "source": []
  }
 ],
 "metadata": {
  "kernelspec": {
   "display_name": "Python 3",
   "language": "python",
   "name": "python3"
  },
  "language_info": {
   "codemirror_mode": {
    "name": "ipython",
    "version": 3
   },
   "file_extension": ".py",
   "mimetype": "text/x-python",
   "name": "python",
   "nbconvert_exporter": "python",
   "pygments_lexer": "ipython3",
   "version": "3.6.10"
  }
 },
 "nbformat": 4,
 "nbformat_minor": 2
}
