{
 "cells": [
  {
   "cell_type": "code",
   "execution_count": 1,
   "metadata": {},
   "outputs": [],
   "source": [
    "import stilus.models as m\n",
    "import numpy as np\n",
    "import torch\n",
    "import torch.nn as nn"
   ]
  },
  {
   "cell_type": "code",
   "execution_count": 2,
   "metadata": {},
   "outputs": [],
   "source": [
    "weighted_loss =  m.WeightedL1Loss()\n",
    "mse_loss = nn.MSELoss()"
   ]
  },
  {
   "cell_type": "code",
   "execution_count": 3,
   "metadata": {},
   "outputs": [
    {
     "data": {
      "text/plain": [
       "tensor([[0.1913, 0.1007, 0.9155, 0.7661, 0.5832, 0.7692, 0.5280, 0.8751, 0.8717,\n",
       "         0.9075],\n",
       "        [0.3378, 0.6627, 0.7796, 0.0223, 0.0262, 0.4414, 0.5095, 0.8516, 0.6387,\n",
       "         0.8934],\n",
       "        [0.2159, 0.9097, 0.4206, 0.6443, 0.1110, 0.7318, 0.2683, 0.7151, 0.8575,\n",
       "         0.4211],\n",
       "        [0.2601, 0.3707, 0.4901, 0.6913, 0.5420, 0.2242, 0.2329, 0.9076, 0.6744,\n",
       "         0.7499],\n",
       "        [0.2799, 0.2243, 0.2582, 0.9209, 0.2986, 0.9049, 0.7628, 0.3623, 0.4667,\n",
       "         0.4959]], device='cuda:0')"
      ]
     },
     "execution_count": 3,
     "metadata": {},
     "output_type": "execute_result"
    }
   ],
   "source": [
    "cuda0 = torch.device('cuda:0')\n",
    "\n",
    "test_y_tensor = torch.rand((5, 10), device=cuda0)\n",
    "test_y_hat_tensor = torch.rand((5, 10) , device=cuda0)\n",
    "test_y_hat_tensor"
   ]
  },
  {
   "cell_type": "code",
   "execution_count": 4,
   "metadata": {},
   "outputs": [
    {
     "name": "stdout",
     "output_type": "stream",
     "text": [
      "tensor(0.1773, device='cuda:0', grad_fn=<MseLossBackward>)\n",
      "tensor(0.1773, device='cuda:0')\n"
     ]
    }
   ],
   "source": [
    "print(weighted_loss(test_y_hat_tensor, test_y_tensor ))\n",
    "print(mse_loss(test_y_hat_tensor, test_y_tensor ))"
   ]
  },
  {
   "cell_type": "code",
   "execution_count": null,
   "metadata": {},
   "outputs": [],
   "source": []
  }
 ],
 "metadata": {
  "kernelspec": {
   "display_name": "Python 3",
   "language": "python",
   "name": "python3"
  },
  "language_info": {
   "codemirror_mode": {
    "name": "ipython",
    "version": 3
   },
   "file_extension": ".py",
   "mimetype": "text/x-python",
   "name": "python",
   "nbconvert_exporter": "python",
   "pygments_lexer": "ipython3",
   "version": "3.7.1"
  }
 },
 "nbformat": 4,
 "nbformat_minor": 2
}
