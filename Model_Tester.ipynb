{
 "cells": [
  {
   "cell_type": "code",
   "execution_count": null,
   "metadata": {},
   "outputs": [],
   "source": [
    "import torch\n",
    "import torch.nn as nn\n",
    "import torch.nn.functional as F\n",
    "import torch.optim as optim\n",
    "import stilus.models as m\n",
    "import pytorch_lightning as pl\n",
    "from stilus.data.sets import MidiDataset\n",
    "from torch.utils.data import DataLoader\n",
    "from pytorch_lightning.callbacks import EarlyStopping"
   ]
  },
  {
   "cell_type": "code",
   "execution_count": null,
   "metadata": {},
   "outputs": [],
   "source": [
    "cuda_available =  torch.cuda.is_available()\n",
    "device = torch.device('cuda' if cuda_available else 'cpu')\n",
    "print('Using device:', device)\n",
    "\n",
    "nets = [m.ConvNet_1_0_0(), m.ConvNet_1_0_1(), m.ConvNet_1_0_2(), m.ConvNet_1_0_3(),m.TransformerNet_1_0_0(),m.TransformerNet_1_0_1(),m.TransformerNet_1_0_2()]\n",
    "\n",
    "print(nets)"
   ]
  },
  {
   "cell_type": "code",
   "execution_count": null,
   "metadata": {},
   "outputs": [],
   "source": [
    "# Test that tensor shapes are correct\n",
    "for net in nets:\n",
    "    print(type(net).__name__)\n",
    "    input = torch.randn(128, 5, 32).to(device)\n",
    "    out = net(input)\n",
    "    print(\"input:\", input.shape)\n",
    "    print(\"output:\", out.shape)"
   ]
  },
  {
   "cell_type": "code",
   "execution_count": null,
   "metadata": {},
   "outputs": [],
   "source": [
    "for net in nets:\n",
    "    net_name = type(net).__name__\n",
    "    \n",
    "    early_stopping = EarlyStopping('loss')\n",
    "    \n",
    "    print('Starting to train:', net_name)\n",
    "    trainer = pl.Trainer(min_epochs=30, gpus=0, early_stop_callback=early_stopping)\n",
    "    trainer.fit(net)\n",
    "    trainer.test(net)\n",
    "    print('Finished training', net_name)"
   ]
  },
  {
   "cell_type": "code",
   "execution_count": null,
   "metadata": {},
   "outputs": [],
   "source": [
    "for net in nets:\n",
    "    model_pth_name = \"model_weights/tmp_\" + type(net).__name__ + \".pth\" \n",
    "    torch.save(net.state_dict(), model_pth_name)"
   ]
  },
  {
   "cell_type": "code",
   "execution_count": null,
   "metadata": {
    "scrolled": true
   },
   "outputs": [],
   "source": [
    "net = m.ConvNet_1_0_0().to(device)\n",
    "net.load_state_dict(torch.load(\"./model_weights/30epochs_1.0.0.pth\", map_location=torch.device(device)))\n",
    "net.eval()"
   ]
  },
  {
   "cell_type": "code",
   "execution_count": null,
   "metadata": {},
   "outputs": [],
   "source": [
    "midi_test_dataset = MidiDataset(\"test_data.npy\", net.midi_dataset.mean, net.midi_dataset.std)\n",
    "test_dataloader = DataLoader(midi_test_dataset, batch_size=64, shuffle=False)"
   ]
  },
  {
   "cell_type": "code",
   "execution_count": null,
   "metadata": {},
   "outputs": [],
   "source": [
    "def std_tensor_to_int(pred):\n",
    "    return ((pred * net.midi_dataset.std) + net.midi_dataset.mean).int()"
   ]
  },
  {
   "cell_type": "code",
   "execution_count": null,
   "metadata": {},
   "outputs": [],
   "source": [
    "for i, data in enumerate(test_dataloader, 0):\n",
    "    # get the inputs; data is a list of [inputs, labels]\n",
    "    inputs, labels = data\n",
    "    #print(inputs)\n",
    "    print(\"labels:\",  std_tensor_to_int(labels))\n",
    "    pred = net(inputs)\n",
    "    print(\"pred:\",  std_tensor_to_int(pred))\n",
    "   \n",
    "    "
   ]
  },
  {
   "cell_type": "code",
   "execution_count": null,
   "metadata": {},
   "outputs": [],
   "source": []
  }
 ],
 "metadata": {
  "kernelspec": {
   "display_name": "Python 3",
   "language": "python",
   "name": "python3"
  },
  "language_info": {
   "codemirror_mode": {
    "name": "ipython",
    "version": 3
   },
   "file_extension": ".py",
   "mimetype": "text/x-python",
   "name": "python",
   "nbconvert_exporter": "python",
   "pygments_lexer": "ipython3",
   "version": "3.6.10"
  }
 },
 "nbformat": 4,
 "nbformat_minor": 4
}
