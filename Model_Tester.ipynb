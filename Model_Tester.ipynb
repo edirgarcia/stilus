{
 "cells": [
  {
   "cell_type": "code",
   "execution_count": null,
   "metadata": {},
   "outputs": [],
   "source": [
    "import torch\n",
    "import torch.nn as nn\n",
    "import torch.nn.functional as F\n",
    "import torch.optim as optim\n",
    "import stilus.models as m\n",
    "from stilus.data.sets import MidiDataset\n",
    "from torch.utils.data import DataLoader"
   ]
  },
  {
   "cell_type": "code",
   "execution_count": null,
   "metadata": {},
   "outputs": [],
   "source": [
    "cuda_available =  torch.cuda.is_available()\n",
    "device = torch.device('cuda' if cuda_available else 'cpu')\n",
    "print('Using device:', device)\n",
    "\n",
    "nets = [m.ConvNet_1_0_0().to(device), m.ConvNet_1_0_1().to(device), m.ConvNet_1_0_2().to(device), m.ConvNet_1_0_3().to(device),\n",
    "       m.TransformerNet_1_0_0().to(device),m.TransformerNet_1_0_1().to(device),m.TransformerNet_1_0_2().to(device)]\n",
    "\n",
    "print(nets)"
   ]
  },
  {
   "cell_type": "code",
   "execution_count": null,
   "metadata": {},
   "outputs": [],
   "source": [
    "for net in nets:\n",
    "    print(type(net).__name__)\n",
    "    input = torch.randn(128, 5, 32).to(device)\n",
    "    out = net(input)\n",
    "    print(input.shape)\n",
    "    print(out.shape)"
   ]
  },
  {
   "cell_type": "code",
   "execution_count": null,
   "metadata": {},
   "outputs": [],
   "source": [
    "epochs = 20"
   ]
  },
  {
   "cell_type": "code",
   "execution_count": null,
   "metadata": {},
   "outputs": [],
   "source": [
    "midi_dataset = MidiDataset(\"training_data.npy\")\n",
    "dataloader = DataLoader(midi_dataset, batch_size=128, shuffle=True)"
   ]
  },
  {
   "cell_type": "code",
   "execution_count": null,
   "metadata": {},
   "outputs": [],
   "source": [
    "for net in nets:\n",
    "    criterion = nn.L1Loss()\n",
    "    optimizer = optim.SGD(net.parameters(), lr=0.001, momentum=0.9)\n",
    "    print(\"Starting to train \", type(net).__name__)\n",
    "    for epoch in range(epochs):  # loop over the dataset multiple times\n",
    "        running_loss = 0.0\n",
    "        for i, data in enumerate(dataloader, 0):\n",
    "            # get the inputs; data is a list of [inputs, labels]\n",
    "            \n",
    "            inputs, labels = data[:,:,0:32].to(device), data[:,:,32].to(device)\n",
    "            # zero the parameter gradients\n",
    "            optimizer.zero_grad()\n",
    "\n",
    "            # forward + backward + optimize\n",
    "            outputs = net(inputs)\n",
    "            loss = criterion(outputs, labels)\n",
    "            loss.backward()\n",
    "            optimizer.step()\n",
    "\n",
    "            # print statistics\n",
    "            running_loss += loss.item()\n",
    "            if i % 1000 == 999:    # print every 2000 mini-batches\n",
    "                print('[%d, %5d] loss: %.3f' %\n",
    "                      (epoch + 1, i + 1, running_loss / 1000))\n",
    "                running_loss = 0.0\n",
    "\n",
    "    print('Finished Training', type(net).__name__)"
   ]
  },
  {
   "cell_type": "code",
   "execution_count": null,
   "metadata": {},
   "outputs": [],
   "source": [
    "for net in nets:\n",
    "    model_pth_name = \"model_weights/\" + str(epochs*3) +\"epochs\" + type(net).__name__ + \".pth\" \n",
    "    torch.save(net.state_dict(), model_pth_name)"
   ]
  },
  {
   "cell_type": "code",
   "execution_count": null,
   "metadata": {
    "scrolled": true
   },
   "outputs": [],
   "source": [
    "net = m.ConvNet_1_0_0().to(device)\n",
    "net.load_state_dict(torch.load(\"./model_weights/30epochs_1.0.0.pth\", map_location=torch.device(device)))\n",
    "net.eval()"
   ]
  },
  {
   "cell_type": "code",
   "execution_count": null,
   "metadata": {},
   "outputs": [],
   "source": [
    "midi_test_dataset = MidiDataset(\"test_data.npy\", midi_dataset.mean, midi_dataset.std)\n",
    "test_dataloader = DataLoader(midi_test_dataset, batch_size=64, shuffle=False)"
   ]
  },
  {
   "cell_type": "code",
   "execution_count": null,
   "metadata": {},
   "outputs": [],
   "source": [
    "def std_tensor_to_int(pred):\n",
    "    return ((pred * midi_dataset.std) + midi_dataset.mean).int()"
   ]
  },
  {
   "cell_type": "code",
   "execution_count": null,
   "metadata": {},
   "outputs": [],
   "source": [
    "for i, data in enumerate(test_dataloader, 0):\n",
    "    # get the inputs; data is a list of [inputs, labels]\n",
    "    print(data.shape)\n",
    "    inputs, labels = data[1:64,:,0:32], data[1:64,:,32]\n",
    "    #print(inputs)\n",
    "    print(\"labels:\",  std_tensor_to_int(labels))\n",
    "    pred = net(inputs)\n",
    "    print(\"pred:\",  std_tensor_to_int(pred))\n",
    "   \n",
    "    "
   ]
  }
 ],
 "metadata": {
  "kernelspec": {
   "display_name": "Python 3",
   "language": "python",
   "name": "python3"
  },
  "language_info": {
   "codemirror_mode": {
    "name": "ipython",
    "version": 3
   },
   "file_extension": ".py",
   "mimetype": "text/x-python",
   "name": "python",
   "nbconvert_exporter": "python",
   "pygments_lexer": "ipython3",
   "version": "3.7.1"
  }
 },
 "nbformat": 4,
 "nbformat_minor": 4
}
