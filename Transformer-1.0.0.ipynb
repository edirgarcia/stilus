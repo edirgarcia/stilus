{
 "cells": [
  {
   "cell_type": "code",
   "execution_count": 1,
   "metadata": {},
   "outputs": [],
   "source": [
    "import torch\n",
    "import torch.nn as nn\n",
    "import torch.nn.functional as F\n",
    "import torch.optim as optim\n",
    "from stilus.data.sets import MidiDataset\n",
    "from torch.utils.data import DataLoader"
   ]
  },
  {
   "cell_type": "code",
   "execution_count": 20,
   "metadata": {},
   "outputs": [],
   "source": [
    "class TransformerNet(nn.Module):\n",
    "\n",
    "    def __init__(self):\n",
    "        super(TransformerNet, self).__init__() # bs * 5 * 32\n",
    "        self.encoder0 = nn.TransformerEncoderLayer(d_model=32, nhead=8, dim_feedforward=512)\n",
    "        self.fc0 = nn.Linear(32 * 5, 5)\n",
    "\n",
    "    def forward(self, x):\n",
    "        x = self.encoder0(x)\n",
    "        x = x.view(-1, self.num_flat_features(x))\n",
    "        x = self.fc0(x)\n",
    "        return x\n",
    "    \n",
    "    def num_flat_features(self, x):\n",
    "        size = x.size()[1:]  # all dimensions except the batch dimension\n",
    "        num_features = 1\n",
    "        for s in size:\n",
    "            num_features *= s\n",
    "        return num_features\n"
   ]
  },
  {
   "cell_type": "code",
   "execution_count": 21,
   "metadata": {},
   "outputs": [
    {
     "name": "stdout",
     "output_type": "stream",
     "text": [
      "TransformerNet(\n",
      "  (encoder0): TransformerEncoderLayer(\n",
      "    (self_attn): MultiheadAttention(\n",
      "      (out_proj): Linear(in_features=32, out_features=32, bias=True)\n",
      "    )\n",
      "    (linear1): Linear(in_features=32, out_features=512, bias=True)\n",
      "    (dropout): Dropout(p=0.1, inplace=False)\n",
      "    (linear2): Linear(in_features=512, out_features=32, bias=True)\n",
      "    (norm1): LayerNorm((32,), eps=1e-05, elementwise_affine=True)\n",
      "    (norm2): LayerNorm((32,), eps=1e-05, elementwise_affine=True)\n",
      "    (dropout1): Dropout(p=0.1, inplace=False)\n",
      "    (dropout2): Dropout(p=0.1, inplace=False)\n",
      "  )\n",
      "  (fc0): Linear(in_features=160, out_features=5, bias=True)\n",
      ")\n"
     ]
    }
   ],
   "source": [
    "transformer_net = TransformerNet()\n",
    "print(transformer_net)"
   ]
  },
  {
   "cell_type": "code",
   "execution_count": 22,
   "metadata": {},
   "outputs": [
    {
     "name": "stdout",
     "output_type": "stream",
     "text": [
      "torch.Size([128, 5, 32])\n",
      "torch.Size([128, 5])\n"
     ]
    }
   ],
   "source": [
    "input = torch.randn(128, 5, 32)\n",
    "out = transformer_net(input)\n",
    "print(input.shape)\n",
    "print(out.shape)"
   ]
  },
  {
   "cell_type": "code",
   "execution_count": 23,
   "metadata": {},
   "outputs": [],
   "source": [
    "criterion = nn.L1Loss()\n",
    "optimizer = optim.SGD(transformer_net.parameters(), lr=0.001, momentum=0.9)"
   ]
  },
  {
   "cell_type": "code",
   "execution_count": 24,
   "metadata": {},
   "outputs": [],
   "source": [
    "midi_dataset = MidiDataset(\"training_data.npy\")\n",
    "dataloader = DataLoader(midi_dataset, batch_size=32, shuffle=True)"
   ]
  },
  {
   "cell_type": "code",
   "execution_count": 28,
   "metadata": {},
   "outputs": [
    {
     "name": "stdout",
     "output_type": "stream",
     "text": [
      "[1,  1000] loss: 0.147\n",
      "[1,  2000] loss: 0.146\n",
      "[1,  3000] loss: 0.151\n",
      "[1,  4000] loss: 0.148\n",
      "[1,  5000] loss: 0.148\n",
      "[1,  6000] loss: 0.147\n",
      "[1,  7000] loss: 0.149\n",
      "[1,  8000] loss: 0.146\n",
      "[2,  1000] loss: 0.146\n",
      "[2,  2000] loss: 0.146\n",
      "[2,  3000] loss: 0.146\n",
      "[2,  4000] loss: 0.149\n",
      "[2,  5000] loss: 0.148\n",
      "[2,  6000] loss: 0.148\n",
      "[2,  7000] loss: 0.148\n",
      "[2,  8000] loss: 0.145\n",
      "[3,  1000] loss: 0.148\n",
      "[3,  2000] loss: 0.149\n",
      "[3,  3000] loss: 0.146\n",
      "[3,  4000] loss: 0.148\n",
      "[3,  5000] loss: 0.143\n",
      "[3,  6000] loss: 0.147\n",
      "[3,  7000] loss: 0.147\n",
      "[3,  8000] loss: 0.147\n",
      "[4,  1000] loss: 0.152\n",
      "[4,  2000] loss: 0.146\n",
      "[4,  3000] loss: 0.148\n",
      "[4,  4000] loss: 0.147\n",
      "[4,  5000] loss: 0.147\n",
      "[4,  6000] loss: 0.147\n",
      "[4,  7000] loss: 0.144\n",
      "[4,  8000] loss: 0.145\n",
      "[5,  1000] loss: 0.147\n",
      "[5,  2000] loss: 0.147\n",
      "[5,  3000] loss: 0.147\n",
      "[5,  4000] loss: 0.147\n",
      "[5,  5000] loss: 0.146\n",
      "[5,  6000] loss: 0.149\n",
      "[5,  7000] loss: 0.148\n",
      "[5,  8000] loss: 0.147\n",
      "[6,  1000] loss: 0.146\n",
      "[6,  2000] loss: 0.147\n",
      "[6,  3000] loss: 0.149\n",
      "[6,  4000] loss: 0.149\n",
      "[6,  5000] loss: 0.146\n",
      "[6,  6000] loss: 0.146\n",
      "[6,  7000] loss: 0.149\n",
      "[6,  8000] loss: 0.141\n",
      "[7,  1000] loss: 0.147\n",
      "[7,  2000] loss: 0.147\n",
      "[7,  3000] loss: 0.147\n",
      "[7,  4000] loss: 0.146\n",
      "[7,  5000] loss: 0.146\n",
      "[7,  6000] loss: 0.146\n",
      "[7,  7000] loss: 0.147\n",
      "[7,  8000] loss: 0.147\n",
      "[8,  1000] loss: 0.146\n",
      "[8,  2000] loss: 0.148\n",
      "[8,  3000] loss: 0.145\n",
      "[8,  4000] loss: 0.145\n",
      "[8,  5000] loss: 0.145\n",
      "[8,  6000] loss: 0.147\n",
      "[8,  7000] loss: 0.146\n",
      "[8,  8000] loss: 0.150\n",
      "[9,  1000] loss: 0.147\n",
      "[9,  2000] loss: 0.145\n",
      "[9,  3000] loss: 0.150\n",
      "[9,  4000] loss: 0.147\n",
      "[9,  5000] loss: 0.144\n",
      "[9,  6000] loss: 0.146\n",
      "[9,  7000] loss: 0.146\n",
      "[9,  8000] loss: 0.144\n",
      "[10,  1000] loss: 0.147\n",
      "[10,  2000] loss: 0.149\n",
      "[10,  3000] loss: 0.145\n",
      "[10,  4000] loss: 0.146\n",
      "[10,  5000] loss: 0.144\n",
      "[10,  6000] loss: 0.147\n",
      "[10,  7000] loss: 0.145\n",
      "[10,  8000] loss: 0.149\n",
      "[11,  1000] loss: 0.146\n",
      "[11,  2000] loss: 0.144\n",
      "[11,  3000] loss: 0.148\n",
      "[11,  4000] loss: 0.144\n",
      "[11,  5000] loss: 0.145\n",
      "[11,  6000] loss: 0.147\n",
      "[11,  7000] loss: 0.147\n",
      "[11,  8000] loss: 0.145\n",
      "[12,  1000] loss: 0.142\n",
      "[12,  2000] loss: 0.148\n",
      "[12,  3000] loss: 0.146\n",
      "[12,  4000] loss: 0.146\n",
      "[12,  5000] loss: 0.146\n",
      "[12,  6000] loss: 0.150\n",
      "[12,  7000] loss: 0.145\n",
      "[12,  8000] loss: 0.145\n",
      "[13,  1000] loss: 0.144\n",
      "[13,  2000] loss: 0.145\n",
      "[13,  3000] loss: 0.146\n",
      "[13,  4000] loss: 0.148\n",
      "[13,  5000] loss: 0.147\n",
      "[13,  6000] loss: 0.145\n",
      "[13,  7000] loss: 0.146\n",
      "[13,  8000] loss: 0.145\n",
      "[14,  1000] loss: 0.144\n",
      "[14,  2000] loss: 0.148\n",
      "[14,  3000] loss: 0.146\n",
      "[14,  4000] loss: 0.145\n",
      "[14,  5000] loss: 0.143\n",
      "[14,  6000] loss: 0.148\n",
      "[14,  7000] loss: 0.144\n",
      "[14,  8000] loss: 0.148\n",
      "[15,  1000] loss: 0.146\n",
      "[15,  2000] loss: 0.144\n",
      "[15,  3000] loss: 0.147\n",
      "[15,  4000] loss: 0.142\n",
      "[15,  5000] loss: 0.149\n",
      "[15,  6000] loss: 0.145\n",
      "[15,  7000] loss: 0.147\n",
      "[15,  8000] loss: 0.143\n",
      "[16,  1000] loss: 0.147\n",
      "[16,  2000] loss: 0.144\n",
      "[16,  3000] loss: 0.146\n",
      "[16,  4000] loss: 0.143\n",
      "[16,  5000] loss: 0.145\n",
      "[16,  6000] loss: 0.147\n",
      "[16,  7000] loss: 0.146\n",
      "[16,  8000] loss: 0.145\n",
      "[17,  1000] loss: 0.145\n",
      "[17,  2000] loss: 0.142\n",
      "[17,  3000] loss: 0.146\n",
      "[17,  4000] loss: 0.147\n",
      "[17,  5000] loss: 0.149\n",
      "[17,  6000] loss: 0.145\n",
      "[17,  7000] loss: 0.144\n",
      "[17,  8000] loss: 0.143\n",
      "[18,  1000] loss: 0.145\n",
      "[18,  2000] loss: 0.145\n",
      "[18,  3000] loss: 0.147\n",
      "[18,  4000] loss: 0.148\n",
      "[18,  5000] loss: 0.145\n",
      "[18,  6000] loss: 0.144\n",
      "[18,  7000] loss: 0.144\n",
      "[18,  8000] loss: 0.144\n",
      "[19,  1000] loss: 0.145\n",
      "[19,  2000] loss: 0.144\n",
      "[19,  3000] loss: 0.145\n",
      "[19,  4000] loss: 0.148\n",
      "[19,  5000] loss: 0.146\n",
      "[19,  6000] loss: 0.142\n",
      "[19,  7000] loss: 0.146\n",
      "[19,  8000] loss: 0.144\n",
      "[20,  1000] loss: 0.147\n",
      "[20,  2000] loss: 0.144\n",
      "[20,  3000] loss: 0.143\n",
      "[20,  4000] loss: 0.144\n",
      "[20,  5000] loss: 0.144\n",
      "[20,  6000] loss: 0.145\n",
      "[20,  7000] loss: 0.144\n",
      "[20,  8000] loss: 0.149\n",
      "Finished Training\n"
     ]
    }
   ],
   "source": [
    "for epoch in range(20):  # loop over the dataset multiple times\n",
    "\n",
    "    running_loss = 0.0\n",
    "    for i, data in enumerate(dataloader, 0):\n",
    "        # get the inputs; data is a list of [inputs, labels]\n",
    "        inputs, labels = data[:,:,0:32], data[:,:,32]\n",
    "\n",
    "        # zero the parameter gradients\n",
    "        optimizer.zero_grad()\n",
    "\n",
    "        # forward + backward + optimize\n",
    "        outputs = transformer_net(inputs)\n",
    "        loss = criterion(outputs, labels)\n",
    "        loss.backward()\n",
    "        optimizer.step()\n",
    "\n",
    "        # print statistics\n",
    "        running_loss += loss.item()\n",
    "        if i % 1000 == 999:    # print every 2000 mini-batches\n",
    "            print('[%d, %5d] loss: %.3f' %\n",
    "                  (epoch + 1, i + 1, running_loss / 1000))\n",
    "            running_loss = 0.0\n",
    "\n",
    "print('Finished Training')"
   ]
  },
  {
   "cell_type": "code",
   "execution_count": null,
   "metadata": {},
   "outputs": [],
   "source": [
    "for i, data in enumerate(dataloader, 0):\n",
    "    # get the inputs; data is a list of [inputs, labels]\n",
    "    if i == 0:\n",
    "        print( data.shape)\n",
    "    inputs, labels = data[5:7,:,0:32], data[5:7,:,32]\n",
    "    print(\"labels:\", labels)\n",
    "    print(\"pred:\", conv_net(inputs))\n",
    "    \n",
    "    if i == 2:\n",
    "        break"
   ]
  },
  {
   "cell_type": "code",
   "execution_count": 29,
   "metadata": {},
   "outputs": [],
   "source": [
    "torch.save(conv_net.state_dict(), \"models/60epochs_transformer_1.0.0.pth\")"
   ]
  },
  {
   "cell_type": "code",
   "execution_count": 19,
   "metadata": {
    "scrolled": true
   },
   "outputs": [
    {
     "ename": "RuntimeError",
     "evalue": "Error(s) in loading state_dict for TransformerNet:\n\tsize mismatch for fc0.weight: copying a param with shape torch.Size([5, 64]) from checkpoint, the shape in current model is torch.Size([5, 160]).",
     "output_type": "error",
     "traceback": [
      "\u001b[1;31m---------------------------------------------------------------------------\u001b[0m",
      "\u001b[1;31mRuntimeError\u001b[0m                              Traceback (most recent call last)",
      "\u001b[1;32m<ipython-input-19-f5d288565854>\u001b[0m in \u001b[0;36m<module>\u001b[1;34m\u001b[0m\n\u001b[0;32m      1\u001b[0m \u001b[0mconv_net\u001b[0m \u001b[1;33m=\u001b[0m \u001b[0mTransformerNet\u001b[0m\u001b[1;33m(\u001b[0m\u001b[1;33m)\u001b[0m\u001b[1;33m\u001b[0m\u001b[1;33m\u001b[0m\u001b[0m\n\u001b[1;32m----> 2\u001b[1;33m \u001b[0mconv_net\u001b[0m\u001b[1;33m.\u001b[0m\u001b[0mload_state_dict\u001b[0m\u001b[1;33m(\u001b[0m\u001b[0mtorch\u001b[0m\u001b[1;33m.\u001b[0m\u001b[0mload\u001b[0m\u001b[1;33m(\u001b[0m\u001b[1;34m\"./models/20epochs_transformer_1.0.0.pth\"\u001b[0m\u001b[1;33m)\u001b[0m\u001b[1;33m)\u001b[0m\u001b[1;33m\u001b[0m\u001b[1;33m\u001b[0m\u001b[0m\n\u001b[0m\u001b[0;32m      3\u001b[0m \u001b[0mconv_net\u001b[0m\u001b[1;33m.\u001b[0m\u001b[0meval\u001b[0m\u001b[1;33m(\u001b[0m\u001b[1;33m)\u001b[0m\u001b[1;33m\u001b[0m\u001b[1;33m\u001b[0m\u001b[0m\n",
      "\u001b[1;32m~\\Anaconda3\\envs\\mido\\lib\\site-packages\\torch\\nn\\modules\\module.py\u001b[0m in \u001b[0;36mload_state_dict\u001b[1;34m(self, state_dict, strict)\u001b[0m\n\u001b[0;32m    828\u001b[0m         \u001b[1;32mif\u001b[0m \u001b[0mlen\u001b[0m\u001b[1;33m(\u001b[0m\u001b[0merror_msgs\u001b[0m\u001b[1;33m)\u001b[0m \u001b[1;33m>\u001b[0m \u001b[1;36m0\u001b[0m\u001b[1;33m:\u001b[0m\u001b[1;33m\u001b[0m\u001b[1;33m\u001b[0m\u001b[0m\n\u001b[0;32m    829\u001b[0m             raise RuntimeError('Error(s) in loading state_dict for {}:\\n\\t{}'.format(\n\u001b[1;32m--> 830\u001b[1;33m                                self.__class__.__name__, \"\\n\\t\".join(error_msgs)))\n\u001b[0m\u001b[0;32m    831\u001b[0m         \u001b[1;32mreturn\u001b[0m \u001b[0m_IncompatibleKeys\u001b[0m\u001b[1;33m(\u001b[0m\u001b[0mmissing_keys\u001b[0m\u001b[1;33m,\u001b[0m \u001b[0munexpected_keys\u001b[0m\u001b[1;33m)\u001b[0m\u001b[1;33m\u001b[0m\u001b[1;33m\u001b[0m\u001b[0m\n\u001b[0;32m    832\u001b[0m \u001b[1;33m\u001b[0m\u001b[0m\n",
      "\u001b[1;31mRuntimeError\u001b[0m: Error(s) in loading state_dict for TransformerNet:\n\tsize mismatch for fc0.weight: copying a param with shape torch.Size([5, 64]) from checkpoint, the shape in current model is torch.Size([5, 160])."
     ]
    }
   ],
   "source": [
    "conv_net = TransformerNet()\n",
    "conv_net.load_state_dict(torch.load(\"./models/60epochs_transformer_1.0.0.pth\"))\n",
    "conv_net.eval()"
   ]
  },
  {
   "cell_type": "code",
   "execution_count": null,
   "metadata": {},
   "outputs": [],
   "source": [
    "midi_test_dataset = MidiDataset(\"test_data.npy\", midi_dataset.mean, midi_dataset.std)\n",
    "test_dataloader = DataLoader(midi_test_dataset, batch_size=64, shuffle=False)"
   ]
  },
  {
   "cell_type": "code",
   "execution_count": null,
   "metadata": {},
   "outputs": [],
   "source": [
    "def std_tensor_to_int(pred):\n",
    "    return ((pred * midi_dataset.std) + midi_dataset.mean).int()"
   ]
  },
  {
   "cell_type": "code",
   "execution_count": null,
   "metadata": {},
   "outputs": [],
   "source": [
    "for i, data in enumerate(test_dataloader, 0):\n",
    "    # get the inputs; data is a list of [inputs, labels]\n",
    "    print(data.shape)\n",
    "    inputs, labels = data[1:64,:,0:32], data[1:64,:,32]\n",
    "    #print(inputs)\n",
    "    print(\"labels:\",  std_tensor_to_int(labels))\n",
    "    pred = conv_net(inputs)\n",
    "    print(\"pred:\",  std_tensor_to_int(pred))\n",
    "   \n",
    "    "
   ]
  },
  {
   "cell_type": "code",
   "execution_count": null,
   "metadata": {},
   "outputs": [],
   "source": []
  }
 ],
 "metadata": {
  "kernelspec": {
   "display_name": "Python 3",
   "language": "python",
   "name": "python3"
  },
  "language_info": {
   "codemirror_mode": {
    "name": "ipython",
    "version": 3
   },
   "file_extension": ".py",
   "mimetype": "text/x-python",
   "name": "python",
   "nbconvert_exporter": "python",
   "pygments_lexer": "ipython3",
   "version": "3.6.10"
  }
 },
 "nbformat": 4,
 "nbformat_minor": 4
}
